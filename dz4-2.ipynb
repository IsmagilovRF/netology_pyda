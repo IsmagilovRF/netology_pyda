{
 "cells": [
  {
   "cell_type": "markdown",
   "metadata": {},
   "source": [
    "# Задание к лекции \"Функции\".\n",
    "Для зачета необходимо правильно выполнить 4 заданий из 6.  \n",
    "Для зачета с отличием – все 6."
   ]
  },
  {
   "cell_type": "markdown",
   "metadata": {},
   "source": [
    "## Задание 1"
   ]
  },
  {
   "cell_type": "markdown",
   "metadata": {},
   "source": [
    "Дан список вида:"
   ]
  },
  {
   "cell_type": "code",
   "execution_count": 1,
   "metadata": {},
   "outputs": [],
   "source": [
    "data = [\n",
    "    [13, 25, 23, 34],\n",
    "    [45, 32, 44, 47],\n",
    "    [12, 33, 23, 95],\n",
    "    [13, 53, 34, 35]\n",
    "]"
   ]
  },
  {
   "cell_type": "code",
   "execution_count": 21,
   "metadata": {},
   "outputs": [
    {
     "name": "stdout",
     "output_type": "stream",
     "text": [
      "Сумма элементов на диагонали =  103\n"
     ]
    }
   ],
   "source": [
    "def sum_d(data_q):\n",
    "    s=0\n",
    "    for i in range(len(data_q)):\n",
    "        s=s+data[i][i]\n",
    "    return s\n",
    "print('Сумма элементов на диагонали = ', sum_d(data))"
   ]
  },
  {
   "cell_type": "markdown",
   "metadata": {},
   "source": [
    "Напишите функцию, которая возвращает сумму элементов на диагонали. Т. е. 13+32+23+35.  \n",
    "Список может быть любой длины, но всегда является \"квадратным\" (количество элементов во вложенных списках равно их количеству)."
   ]
  },
  {
   "cell_type": "markdown",
   "metadata": {},
   "source": [
    "## Задание 2"
   ]
  },
  {
   "cell_type": "markdown",
   "metadata": {},
   "source": [
    "Напишите функцию, возвращающую сумму первых n чисел Фибоначчи (для этого вам может понадобится ознакомиться с рекурсией)."
   ]
  },
  {
   "cell_type": "code",
   "execution_count": 3,
   "metadata": {},
   "outputs": [
    {
     "name": "stdout",
     "output_type": "stream",
     "text": [
      "Введите количество чисел Фибоначчи n=9\n",
      "Сумма  9 чисел Фибоначи равна  88\n"
     ]
    }
   ],
   "source": [
    "# Рекурсивное вычисление n-го числа ряда Фибоначчи\n",
    "# Если n = 1 или n = 2, вернуть в вызывающую ветку единицу. \n",
    "# Во всех остальных случаях вызвать эту же функцию с аргументами n - 1 и n - 2. \n",
    "# Результат двух вызовов сложить и вернуть в вызывающую ветку программы.\n",
    "\n",
    "def fibonacci(n):\n",
    "    if n in (1, 2):\n",
    "        return 1\n",
    "    return fibonacci(n - 1) + fibonacci(n - 2)\n",
    "s=0\n",
    "n=int(input('Введите количество чисел Фибоначчи n='))\n",
    "for i in range(1,n+1):\n",
    "    s=s+fibonacci(i)\n",
    "print('Сумма ',i,'чисел Фибоначи равна ',s) "
   ]
  },
  {
   "cell_type": "markdown",
   "metadata": {},
   "source": [
    "## Задание 3"
   ]
  },
  {
   "cell_type": "code",
   "execution_count": 303,
   "metadata": {},
   "outputs": [],
   "source": [
    "def ini_date():\n",
    "    global cook_book\n",
    "    cook_book = {\n",
    "        'салат': [\n",
    "            {'ingridient_name': 'сыр', 'quantity': 50, 'measure': 'гр'},\n",
    "            {'ingridient_name': 'томаты', 'quantity': 20, 'measure': 'гр'},\n",
    "            {'ingridient_name': 'огурцы', 'quantity': 20, 'measure': 'гр'},\n",
    "            {'ingridient_name': 'маслины', 'quantity': 10, 'measure': 'гр'},\n",
    "            {'ingridient_name': 'оливковое_масло', 'quantity': 20, 'measure': 'мл'},\n",
    "            {'ingridient_name': 'салат', 'quantity': 10, 'measure': 'гр'},\n",
    "            {'ingridient_name': 'перец', 'quantity': 20, 'measure': 'гр'}\n",
    "        ],\n",
    "        'пицца': [\n",
    "            {'ingridient_name': 'сыр', 'quantity': 20, 'measure': 'гр'},\n",
    "            {'ingridient_name': 'колбаса', 'quantity': 30, 'measure': 'гр'},\n",
    "            {'ingridient_name': 'бекон', 'quantity': 30, 'measure': 'гр'},\n",
    "            {'ingridient_name': 'оливки', 'quantity': 10, 'measure': 'гр'},\n",
    "            {'ingridient_name': 'томаты', 'quantity': 20, 'measure': 'гр'},\n",
    "            {'ingridient_name': 'тесто', 'quantity': 100, 'measure': 'гр'},\n",
    "        ],\n",
    "        'лимонад': [\n",
    "            {'ingridient_name': 'лимон', 'quantity': 1, 'measure': 'шт'},\n",
    "            {'ingridient_name': 'вода', 'quantity': 200, 'measure': 'мл'},\n",
    "            {'ingridient_name': 'сахар', 'quantity': 10, 'measure': 'гр'},\n",
    "            {'ingridient_name': 'лайм', 'quantity': 20, 'measure': 'гр'},    \n",
    "        ]\n",
    "    }\n",
    "\n",
    "# ini_date()"
   ]
  },
  {
   "cell_type": "markdown",
   "metadata": {},
   "source": [
    "Напишите программу (она может состоять из нескольких функций), которая будет запрашивать у пользователя количество гостей и список блюд, которые будут подаваться каждому гостю. В результате программа должна выдавать список покупок, состоящий из ингредиентов, которые нужно купить в магазине (если ингредиенты повторяются, то их нужно записать одной строкой, а не отдельно).\n",
    "\n",
    "Пример:\n",
    "\n",
    "вызов\\_главной\\_функций()\n",
    "\n",
    "Введите количество гостей: 3  \n",
    "Введите блюда через пробел: пицца пицца лимонад\n",
    "\n",
    "Список покупок:  \n",
    "сыр 120 гр  \n",
    "колбаса 180 гр  \n",
    "бекон 180 гр  \n",
    "оливки 60 гр  \n",
    "томаты 120 гр  \n",
    "тесто 600 гр  \n",
    "лимон 3 шт  \n",
    "вода 600 мл  \n",
    "сахар 30 гр  \n",
    "лайм 60 гр  "
   ]
  },
  {
   "cell_type": "code",
   "execution_count": 387,
   "metadata": {},
   "outputs": [],
   "source": [
    "def input_():\n",
    "    global n, blud_list\n",
    "    aa_list=[]\n",
    "    blud_list=[]\n",
    "    n=int(input('Введите количество гостей: '))\n",
    "    blud=input('Введите блюда через пробел: ')\n",
    "    blud_list=blud.strip().split() # получили из строки blud список элементов, \n",
    "                                   # разделенных запятыми"
   ]
  },
  {
   "cell_type": "code",
   "execution_count": 385,
   "metadata": {},
   "outputs": [],
   "source": [
    "def list_of_buys():\n",
    "    global list_buy\n",
    "    list_buy=[]\n",
    "    print('\\nСписок необходимых покупок для приготовления блюд:')\n",
    "    i=0\n",
    "    for p in blud_list:\n",
    "        print('____________',p,'____________')\n",
    "        line_s=len(cook_book[p])\n",
    "        for line in range(line_s):\n",
    "            a=cook_book[p][line]['ingridient_name']\n",
    "            b=cook_book[p][line]['quantity']\n",
    "            c=cook_book[p][line]['measure']\n",
    "            aa=a+' '+str(b)+' '+c       # формирование строки aa\n",
    "            aa_list=aa.strip().split()  # получили из строки aa список элементов, \n",
    "                                        # разделенных запятыми\n",
    "            list_buy.append(aa_list)    # построчно заполнили список продуктов заказа\n",
    "            print(i, aa)\n",
    "            i=i+1\n",
    "# list_of_buys()"
   ]
  },
  {
   "cell_type": "code",
   "execution_count": 394,
   "metadata": {
    "scrolled": true
   },
   "outputs": [],
   "source": [
    "def list_of_all():\n",
    "    stats = {}                               # суммируем одинаковые продукты\n",
    "    for line in list_buy:\n",
    "        stats.setdefault(line[0],0)         # заполняем нулевой столбец ключами\n",
    "        stats[line[0]]= stats[line[0]] + n*int(line[1])  # накапливаем значения (для n гостей)\n",
    "    print('\\nПеречень продуктов для выполнения заказа:')\n",
    "    for key, value in stats.items():\n",
    "        for line in  list_buy:\n",
    "            if key==line[0]: \n",
    "                mes=line[2]\n",
    "        print(key, value, mes )\n",
    "# list_of_all()"
   ]
  },
  {
   "cell_type": "code",
   "execution_count": 395,
   "metadata": {},
   "outputs": [
    {
     "name": "stdout",
     "output_type": "stream",
     "text": [
      "Введите количество гостей: 3\n",
      "Введите блюда через пробел: пицца пицца лимонад\n",
      "\n",
      "Список необходимых покупок для приготовления блюд:\n",
      "____________ пицца ____________\n",
      "0 сыр 20 гр\n",
      "1 колбаса 30 гр\n",
      "2 бекон 30 гр\n",
      "3 оливки 10 гр\n",
      "4 томаты 20 гр\n",
      "5 тесто 100 гр\n",
      "____________ пицца ____________\n",
      "6 сыр 20 гр\n",
      "7 колбаса 30 гр\n",
      "8 бекон 30 гр\n",
      "9 оливки 10 гр\n",
      "10 томаты 20 гр\n",
      "11 тесто 100 гр\n",
      "____________ лимонад ____________\n",
      "12 лимон 1 шт\n",
      "13 вода 200 мл\n",
      "14 сахар 10 гр\n",
      "15 лайм 20 гр\n",
      "\n",
      "Перечень продуктов для выполнения заказа:\n",
      "сыр 120 гр\n",
      "колбаса 180 гр\n",
      "бекон 180 гр\n",
      "оливки 60 гр\n",
      "томаты 120 гр\n",
      "тесто 600 гр\n",
      "лимон 3 шт\n",
      "вода 600 мл\n",
      "сахар 30 гр\n",
      "лайм 60 гр\n"
     ]
    }
   ],
   "source": [
    "def main():\n",
    "    ini_date()\n",
    "    input_()\n",
    "    list_of_buys()\n",
    "    list_of_all()\n",
    "main()    "
   ]
  },
  {
   "cell_type": "markdown",
   "metadata": {},
   "source": [
    "## Задание 4"
   ]
  },
  {
   "cell_type": "markdown",
   "metadata": {},
   "source": [
    "Вы работаете секретарем и вам постоянно приходят различные документы. Вы должны быть очень внимательны, чтобы не потерять ни один документ. Каталог документов хранится в следующем виде:"
   ]
  },
  {
   "cell_type": "code",
   "execution_count": 28,
   "metadata": {},
   "outputs": [
    {
     "data": {
      "text/plain": [
       "[{'type': 'passport', 'number': '2207 876234', 'name': 'Василий Гупкин'},\n",
       " {'type': 'invoice', 'number': '11-2', 'name': 'Геннадий Покемонов'},\n",
       " {'type': 'insurance', 'number': '10006', 'name': 'Аристарх Павлов'}]"
      ]
     },
     "execution_count": 28,
     "metadata": {},
     "output_type": "execute_result"
    }
   ],
   "source": [
    "documents = [\n",
    "    {'type': 'passport', 'number': '2207 876234', 'name': 'Василий Гупкин'},\n",
    "    {'type': 'invoice', 'number': '11-2', 'name': 'Геннадий Покемонов'},\n",
    "    {'type': 'insurance', 'number': '10006', 'name': 'Аристарх Павлов'}\n",
    "]\n",
    "documents"
   ]
  },
  {
   "cell_type": "code",
   "execution_count": 39,
   "metadata": {},
   "outputs": [],
   "source": [
    "# p – people – команда, которая спросит номер документа и выведет имя человека, которому он принадлежит\n",
    "\n",
    "def fun_p():\n",
    "    bb=0\n",
    "    ndoc=(input('Введите номер документа (для определения принадлежности): '))\n",
    "    for line in range(len(documents)): # просмотр всех документов по порядку в каталоге\n",
    "        a=documents[line]['type']\n",
    "        b=documents[line]['number']\n",
    "        c=documents[line]['name']\n",
    "        if b==ndoc: \n",
    "            bb=bb+1\n",
    "            print('Документ:',a,'№',b,' принадлежит: ', c)\n",
    "    # print(bb,a,b,c,ndoc)\n",
    "    if bb==0:\n",
    "        print('Введен номер несуществующего документа!\\nПовторите ввод') \n",
    "    return\n",
    "\n",
    "# fun_p()\n"
   ]
  },
  {
   "cell_type": "code",
   "execution_count": 43,
   "metadata": {},
   "outputs": [],
   "source": [
    "# s – shelf – команда, которая спросит номер документа и выведет номер полки, \n",
    "#                      на которой он находится\n",
    "def fun_s():\n",
    "    bb=0\n",
    "    ndoc=(input('Введите номер документа (для определения номера полки): '))\n",
    "    for line in range(len(documents)): # просмотр всех документов по порядку в каталоге\n",
    "        b=documents[line]['number']\n",
    "        if b==ndoc: \n",
    "            bb +=1\n",
    "            for key, value in directories.items():         # определение номера полки\n",
    "                for i in range(len(value)):\n",
    "                    if value[i]==b:\n",
    "                        print('Номер полки =', key, ', на которой находится документ №' ,value[i]) \n",
    "    if bb == 0: \n",
    "        print('Введен номер несуществующего документа!\\nПовторите ввод') \n",
    "\n",
    "# fun_s()"
   ]
  },
  {
   "cell_type": "markdown",
   "metadata": {},
   "source": [
    "## Перечень полок, на которых находятся документы хранится в следующем виде:"
   ]
  },
  {
   "cell_type": "code",
   "execution_count": 31,
   "metadata": {},
   "outputs": [
    {
     "data": {
      "text/plain": [
       "{'1': ['2207 876234', '11-2', '5455 028765'],\n",
       " '2': ['10006', '5400 028765', '5455 002299'],\n",
       " '3': []}"
      ]
     },
     "execution_count": 31,
     "metadata": {},
     "output_type": "execute_result"
    }
   ],
   "source": [
    "directories = {\n",
    "    '1': ['2207 876234', '11-2', '5455 028765'],\n",
    "    '2': ['10006', '5400 028765', '5455 002299'],\n",
    "    '3': []\n",
    "}\n",
    "directories"
   ]
  },
  {
   "cell_type": "markdown",
   "metadata": {},
   "source": [
    "Необходимо реализовать пользовательские команды (внимание! это не название функций, которые должны быть выразительными, а команды, которые вводит пользователь, чтобы получить необходимый результат):\n",
    "  \n",
    "- p – people – команда, которая спросит номер документа и выведет имя человека, которому он принадлежит;  \n",
    "- s – shelf – команда, которая спросит номер документа и выведет номер полки, на которой он находится  \n",
    "Правильно обработайте ситуацию, когда пользователь будет вводить несуществующий документ."
   ]
  },
  {
   "cell_type": "markdown",
   "metadata": {},
   "source": [
    "## Задание 5"
   ]
  },
  {
   "cell_type": "markdown",
   "metadata": {},
   "source": [
    "К условию из задания 5 реализуйте следующие команды:\n",
    "  \n",
    "- l – list – команда, которая выведет список всех документов в формате   \n",
    "**passport \"2207 876234\" \"Василий Гупкин\"**  \n",
    "- as – add shelf – команда, которая спросит номер новой полки и добавит ее в перечень"
   ]
  },
  {
   "cell_type": "code",
   "execution_count": 32,
   "metadata": {},
   "outputs": [],
   "source": [
    "# l – list – команда, которая выведет список всех документов в формате\n",
    "def fun_l():\n",
    "    print('\\nВыводим список всех документов: ')\n",
    "    for line in range(len(documents)): # просмотр всех документов по порядку в каталоге\n",
    "        a=documents[line]['type']\n",
    "        b=documents[line]['number']\n",
    "        c=documents[line]['name']\n",
    "        print(a+' \"'+b+'\"'+' \"'+c+'\"')\n",
    "    return  \n",
    "# fun_l()"
   ]
  },
  {
   "cell_type": "code",
   "execution_count": 56,
   "metadata": {},
   "outputs": [],
   "source": [
    "# as – add shelf – команда, которая спросит номер новой полки и добавит ее в перечень\n",
    "def fun_as():\n",
    "    n_polk=input('Ввести номер полки для хранения: ')\n",
    "    directories.setdefault(n_polk, []) # Формируем новый элемент словаря directories\n",
    "    print('\\nПеречень полок')\n",
    "    for line in directories:\n",
    "        print(line,directories[line])\n",
    "    return n_polk\n",
    "   \n",
    "# fun_as()"
   ]
  },
  {
   "cell_type": "markdown",
   "metadata": {},
   "source": [
    "## Задание 6"
   ]
  },
  {
   "cell_type": "markdown",
   "metadata": {},
   "source": [
    "К условию из задания 5 реализуйте следующие команды:  \n",
    "  \n",
    "- d – delete – команда, которая спросит номер документа и удалит его из каталога и из перечня полок. Предусмотрите сценарий, когда пользователь вводит несуществующий документ;  \n",
    "- m – move – команда, которая спросит номер документа и целевую полку и переместит его с текущей полки на целевую. Корректно обработайте кейсы, когда пользователь пытается переместить несуществующий документ или переместить документ на несуществующую полку;  \n",
    "- a – add – команда, которая добавит новый документ в каталог и в перечень полок, спросив его номер, тип, имя владельца и номер полки, на котором он будет храниться."
   ]
  },
  {
   "cell_type": "code",
   "execution_count": 34,
   "metadata": {},
   "outputs": [
    {
     "data": {
      "text/plain": [
       "[{'type': 'passport', 'number': '2207 876234', 'name': 'Василий Гупкин'},\n",
       " {'type': 'invoice', 'number': '11-2', 'name': 'Геннадий Покемонов'},\n",
       " {'type': 'insurance', 'number': '10006', 'name': 'Аристарх Павлов'}]"
      ]
     },
     "execution_count": 34,
     "metadata": {},
     "output_type": "execute_result"
    }
   ],
   "source": [
    "documents = [\n",
    "    {'type': 'passport', 'number': '2207 876234', 'name': 'Василий Гупкин'},\n",
    "    {'type': 'invoice', 'number': '11-2', 'name': 'Геннадий Покемонов'},\n",
    "    {'type': 'insurance', 'number': '10006', 'name': 'Аристарх Павлов'}\n",
    "]\n",
    "documents"
   ]
  },
  {
   "cell_type": "code",
   "execution_count": 35,
   "metadata": {},
   "outputs": [
    {
     "data": {
      "text/plain": [
       "{'1': ['2207 876234', '11-2', '5455 028765'],\n",
       " '2': ['10006', '5400 028765', '5455 002299'],\n",
       " '3': []}"
      ]
     },
     "execution_count": 35,
     "metadata": {},
     "output_type": "execute_result"
    }
   ],
   "source": [
    "directories = {\n",
    "    '1': ['2207 876234', '11-2', '5455 028765'],\n",
    "    '2': ['10006', '5400 028765', '5455 002299'],\n",
    "    '3': []\n",
    "}\n",
    "directories"
   ]
  },
  {
   "cell_type": "code",
   "execution_count": 36,
   "metadata": {},
   "outputs": [],
   "source": [
    "# Команда d – delete – команда, которая спросит номер документа и \n",
    "#                          удалит его из каталога и из перечня полок\n",
    "def fun_d():\n",
    "    doc_d=input('Введите номер документа для удаления: ')\n",
    "    b=doc_d\n",
    "    n=0\n",
    "    # Проверка\n",
    "    for line in range(len(documents)): # просмотр всех документов в каталоге\n",
    "        if b==documents[line]['number']:\n",
    "            n+=1\n",
    "    # print('n=',n)\n",
    "    if n!=0:\n",
    "        for key, value in directories.items(): \n",
    "            for i in range(len(value)):\n",
    "            # определение номера полки\n",
    "                if value[i]==b:\n",
    "                    key1=key\n",
    "                    i1=i\n",
    "                    print('С полки №', key, '   удалили документ №' ,value[i])\n",
    "                    print('\\nПеречень документов на полках без документа №:', value[i])\n",
    "        del directories[key1][i1] # удаляем документ с соответствующей полки\n",
    "        for key, value in directories.items(): \n",
    "            print(key,value)\n",
    "        for line in range(len(documents)): # просмотр всех документов в каталоге\n",
    "            bb=documents[line]['number']\n",
    "            if b==bb: \n",
    "                line2=line\n",
    "        del documents[line2] # удаляем строку с документом  из каталога   \n",
    "        print('\\nКаталог без документа № ', b)\n",
    "        for line in range(len(documents)): # просмотр всех документов по порядку в каталоге\n",
    "            a=documents[line]['type']\n",
    "            b=documents[line]['number']\n",
    "            c=documents[line]['name']\n",
    "            print(a+' \"'+b+'\"'+' \"'+c+'\"')\n",
    "    \n",
    "    else:\n",
    "        print('Введен номер несуществующего документа!\\nПовторите ввод')\n",
    "\n",
    "# fun_d()"
   ]
  },
  {
   "cell_type": "code",
   "execution_count": 37,
   "metadata": {},
   "outputs": [],
   "source": [
    "# m – move – команда, которая спросит номер документа и целевую полку\n",
    "# и переместит его с текущей полки на целевую. \n",
    "# Корректно обработайте кейсы, когда пользователь пытается переместить \n",
    "# несуществующий документ или переместить документ на несуществующую полку;  \n",
    "\n",
    "def fun_m():\n",
    "    doc_m=input('Введите номер документа для перемещения: №')\n",
    "    n_pol=input('Введите номер целевой полки: ')\n",
    "    # Поиск документа с указанным номером в каталоге документов\n",
    "    # обращение к элементу словаря\n",
    "    b=doc_m\n",
    "    s=0 # для проверки ввода № док\n",
    "    for key, value in directories.items(): \n",
    "        for i in range(len(value)):\n",
    "            # определение номера полки\n",
    "            if value[i]==b:\n",
    "                s+=1\n",
    "                key1=key\n",
    "                i1=i\n",
    "                print('С полки №', key, '   убрали документ №' ,value[i])\n",
    "                print('\\nПеречень документов на полках без документа №', value[i])\n",
    "    # print(\"s=\", s)\n",
    "    if s != 0:\n",
    "        del directories[key1][i1] # удаляем документ i1 с полки key1\n",
    "        for key, value in directories.items(): \n",
    "            print(key,value)\n",
    "        # добавляем этот документ на другую полку\n",
    "        ss=0\n",
    "        for key, value in directories.items(): \n",
    "            if key==n_pol:\n",
    "                ss+=1\n",
    "                directories[n_pol]=list(value)+[b]\n",
    "            # иначе добавляем новую полку и на нее этот документ  \n",
    "        # print(\"ss=\", ss)\n",
    "        if ss == 0:\n",
    "            directories.setdefault(n_pol, []) # Формируем новый элемент directories\n",
    "            directories[n_pol]=list(value)+[b]\n",
    "            print('\\nПеречень документов на полках c документом №', doc_m, 'на новой полке №',n_pol)\n",
    "        else:\n",
    "            print('\\nПеречень документов на полках c документом №', doc_m, 'на полке №',n_pol)\n",
    "        for key, value in directories.items(): \n",
    "            print(key,value)\n",
    "    else:\n",
    "                print('Введен номер несуществующего документа!\\nПовторите ввод')\n",
    "    \n",
    "# fun_m()"
   ]
  },
  {
   "cell_type": "code",
   "execution_count": 54,
   "metadata": {},
   "outputs": [],
   "source": [
    "# a – add – команда, которая добавит новый документ в каталог и в перечень полок, \n",
    "# спросив его номер, тип, имя владельца и номер полки, на котором он будет храниться.\n",
    "def fun_add():\n",
    "    n_doc=input('Введите номер нового документа: №')\n",
    "    t_doc=input('Введите тип нового документа: ')\n",
    "    name_doc=input('Введите имя владельца: ')\n",
    "# Вводим номер полки для хранения документа') \n",
    "    n_pol=fun_as()\n",
    "# добавляем документ на эту полку\n",
    "    for key, value in directories.items(): \n",
    "        if key==n_pol:\n",
    "            directories[n_pol]=list(value)+[n_doc]\n",
    "    print('\\nПеречень документов c документом №', n_doc, 'на полке №',n_pol)\n",
    "    for line in directories:\n",
    "        print(line,directories[line])\n",
    "# добавляем документ в каталог документов\n",
    "    documents.append({'type': t_doc, 'number': n_doc, 'name': name_doc})\n",
    "    fun_l()\n",
    "    \n",
    "# fun_add()"
   ]
  },
  {
   "cell_type": "code",
   "execution_count": 60,
   "metadata": {},
   "outputs": [],
   "source": [
    "def input_com():\n",
    "    aaa=input('Введите команду: ')\n",
    "    if(aaa!='p' and aaa!='s' and aaa!='l' and aaa!='s' and aaa!=\"as\" \n",
    "       and aaa!='d' and aaa!='m' and aaa!='add'): \n",
    "        print(\"Введена несуществующая команда:\", aaa)\n",
    "    else:\n",
    "        if aaa=='p':    fun_p()\n",
    "        elif aaa=='s':  fun_s()\n",
    "        elif aaa=='l':  fun_l()\n",
    "        elif aaa=='as': fun_as()\n",
    "        elif aaa=='d':  fun_d()    \n",
    "        elif aaa=='m':  fun_m() \n",
    "        elif aaa=='add':fun_add()\n",
    "        \n",
    "# input_com()"
   ]
  },
  {
   "cell_type": "code",
   "execution_count": 59,
   "metadata": {},
   "outputs": [
    {
     "name": "stdout",
     "output_type": "stream",
     "text": [
      "Введите команду: p\n",
      "Введите номер документа (для определения принадлежности): 10006\n",
      "Документ: insurance № 10006  принадлежит:  Аристарх Павлов\n"
     ]
    }
   ],
   "source": [
    "def main():\n",
    "    input_com()\n",
    "\n",
    "# p – people     – команда, которая спросит номер документа и выведет имя человека, \n",
    "#                  которому он принадлежит.\n",
    "# s – shelf      – команда, которая спросит номер документа и выведет номер полки, \n",
    "#                  на которой он находится.\n",
    "# l – list       – команда, которая выведет список всех документов в формате.\n",
    "# as – add shelf – команда, которая спросит номер новой полки и добавит ее в перечень\n",
    "# d – delete     – команда, которая спросит номер документа и \n",
    "#                  удалит его из каталога и из перечня полок.\n",
    "# m – move       – команда, которая спросит номер документа и целевую полку\n",
    "#                  и переместит его с текущей полки на целевую (целевая может быть новой!). \n",
    "# add – add        – команда, которая добавит новый документ в каталог и в перечень полок, \n",
    "#                  спросив его номер, тип, имя владельца и номер полки, \n",
    "#                  на котором он будет храниться.\n",
    "    \n",
    "main()"
   ]
  },
  {
   "cell_type": "code",
   "execution_count": null,
   "metadata": {},
   "outputs": [],
   "source": []
  }
 ],
 "metadata": {
  "kernelspec": {
   "display_name": "Python 3",
   "language": "python",
   "name": "python3"
  },
  "language_info": {
   "codemirror_mode": {
    "name": "ipython",
    "version": 3
   },
   "file_extension": ".py",
   "mimetype": "text/x-python",
   "name": "python",
   "nbconvert_exporter": "python",
   "pygments_lexer": "ipython3",
   "version": "3.7.3"
  }
 },
 "nbformat": 4,
 "nbformat_minor": 2
}
