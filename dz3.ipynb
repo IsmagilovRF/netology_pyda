{
 "cells": [
  {
   "cell_type": "markdown",
   "metadata": {},
   "source": [
    "Домашнее задание к лекции Управляющие конструкции и коллекции часть 2\n",
    "Преподаватель: Константин Башевой\n",
    "**Домашнее задание **\n",
    "\n",
    "Задание 1\n",
    "Дана статистика рекламных каналов по объемам продаж. Напишите скрипт, который возвращает название канала с максимальным объемом.\n",
    "Т. е. в данном примере скрипт должен возвращать “yandex”.\n",
    "stats = {“facebook”: 55, “yandex”: 120, “vk”: 115, “google”: 99, “email”: 42, “ok”: 98}\n",
    "\n",
    "Задание 2\n",
    "Дан список описаний товаров descriptions:\n",
    "descriptions = [\n",
    "[“браслет”, “xiaomi”, “mi”, “band”, “2.”, “умный”, “браслет”, “xiaomi”, “mi”, “лидер”, “в”, “линейке”, “xiaomi.”, “фитнес”, “браслет”, “для”, “android”, “4.4,”, “ios”, “7,”, “экран”, “oled.”, “лучший”, “выбор”, “xiaomi”],\n",
    "[“браслет”, “huawei”, “honor”, “band”, “3.”, “фитнес”, “браслет”, “влагозащищенный”, “сенсорный”, “экран”, “android,”, “ios”, “мониторинг”, “сна”],\n",
    "[“браслет”, “samsung”, “gear”, “fit2”, “pro.”, “влагозащищенный”, “сенсорный”, “amoled-экран”, “мониторинг”, “сна,”, “калорий,”, “новинка”, “samsung”],\n",
    "]\n",
    "\n",
    "Есть подозрение, что некоторые описания содержат много дубликатов одних и тех же слов. Т. е. могут быть переоптимизированными. Для каждого описания товара выведите на экран разницу между количеством уникальных слов и общим количеством слов в этом описании.\n",
    "\n",
    "Задание 3\n",
    "В примере поиска с помощью кортежей мы использовали 3 столбца. Напишите функцию, которая формирует словарь для поиска по n столбцам."
   ]
  },
  {
   "cell_type": "code",
   "execution_count": 26,
   "metadata": {},
   "outputs": [
    {
     "data": {
      "text/plain": [
       "{'facebook': 55, 'yandex': 120, 'vk': 115, 'google': 99, 'email': 42, 'ok': 98}"
      ]
     },
     "execution_count": 26,
     "metadata": {},
     "output_type": "execute_result"
    }
   ],
   "source": [
    "# Задание 1\n",
    "# Дана статистика рекламных каналов по объемам продаж. \n",
    "# Напишите скрипт, который возвращает название канала с максимальным объемом.\n",
    "# Т.е. в данном примере скрипт должен возвращать “yandex”.\n",
    "stats = {'facebook': 55, 'yandex': 120, 'vk': 115, 'google': 99, 'email': 42, 'ok': 98}\n",
    "stats"
   ]
  },
  {
   "cell_type": "code",
   "execution_count": 24,
   "metadata": {},
   "outputs": [
    {
     "name": "stdout",
     "output_type": "stream",
     "text": [
      "yandex\n"
     ]
    }
   ],
   "source": [
    "# РЕШЕНИЕ Задания 1\n",
    "# Используем промежуточный список с обратными ключевыми значениями {}\n",
    "inverse = [(value, key) for key, value in stats.items()]\n",
    "print(max(inverse)[1])"
   ]
  },
  {
   "cell_type": "code",
   "execution_count": 73,
   "metadata": {},
   "outputs": [],
   "source": [
    "# Задание 2 Дан список описаний товаров descriptions: \n",
    "descriptions = [ \n",
    "  ['браслет', 'xiaomi', 'mi', 'band', '2.', 'умный', 'браслет', 'xiaomi', 'mi', 'лидер', 'в', 'линейке', \n",
    "   'xiaomi.', 'фитнес', 'браслет', 'для', 'android', '4.4,' , 'ios', '7,', 'экран', 'oled.', 'лучший', \n",
    "   'выбор', 'xiaomi'], \n",
    "    ['браслет', 'huawei', 'honor', 'band', '3.', 'фитнес', 'браслет', 'влагозащищенный', \n",
    "     'сенсорный', 'экран', 'android,', 'ios', 'мониторинг', 'сна'], \n",
    "    ['браслет', 'samsung', 'gear', 'fit2', 'pro.', 'влагозащищенный', 'сенсорный', \n",
    "     'amoled-экран', 'мониторинг', 'сна,', 'калорий,', 'новинка', 'samsung'], \n",
    "]\n",
    "# Есть подозрение, что некоторые описания содержат много дубликатов одних и тех же слов. \n",
    "# Т.е. могут быть переоптимизированными. \n",
    "# Для каждого описания товара выведите на экран разницу между количеством уникальных слов и \n",
    "# общим количеством слов в этом описании."
   ]
  },
  {
   "cell_type": "code",
   "execution_count": 75,
   "metadata": {},
   "outputs": [
    {
     "name": "stdout",
     "output_type": "stream",
     "text": [
      "браслет xiaomi :  общее количество слов= 25 разница= 5\n",
      "браслет huawei :  общее количество слов= 14 разница= 1\n",
      "браслет samsung :  общее количество слов= 13 разница= 1\n"
     ]
    }
   ],
   "source": [
    "#  РЕШЕНИЕ Задания 2\n",
    "for i in range(3):\n",
    "    print(descriptions[i][0],descriptions[i][1],':  общее количество слов=',len(descriptions[i]),\n",
    "      'разница=', len(descriptions[i])-len(set(descriptions[i])))"
   ]
  },
  {
   "cell_type": "code",
   "execution_count": 74,
   "metadata": {},
   "outputs": [],
   "source": [
    "# Задание 3 В примере поиска с помощью кортежей мы использовали 3 столбца. \n",
    "# Напишите функцию, которая формирует словарь для поиска по n столбцам."
   ]
  },
  {
   "cell_type": "code",
   "execution_count": 131,
   "metadata": {},
   "outputs": [],
   "source": [
    "#  РЕШЕНИЕ Задания 3\n",
    "stats_dict={}\n",
    "def find_n(n, file): # функция формирует словарь по n столбцам\n",
    "    with open(file) as f:                  # открываем файл \n",
    "        for line in f:                     # построчно прочитываем \n",
    "            line=line.strip().split(',')   # элементы строки разделены запятой\n",
    "            stats_dict[tuple(line[:n])]=line[n] # заполняем ключ словаря кортежем из n элементов\n",
    "            \n",
    "find_n(3,'stats.csv') # на входе n=3, file='stats.csv'. Словарь объявлен глобально. "
   ]
  },
  {
   "cell_type": "markdown",
   "metadata": {},
   "source": [
    "НИЖЕ ПРОВЕРКА РЕШЕНИЯ НА ИЗВЕСТНЫХ ДАННЫХ"
   ]
  },
  {
   "cell_type": "code",
   "execution_count": 132,
   "metadata": {},
   "outputs": [
    {
     "data": {
      "text/plain": [
       "['20', '26344', '2', '81208']"
      ]
     },
     "execution_count": 132,
     "metadata": {},
     "output_type": "execute_result"
    }
   ],
   "source": [
    "line"
   ]
  },
  {
   "cell_type": "code",
   "execution_count": 134,
   "metadata": {},
   "outputs": [],
   "source": [
    "# stats_dict # весь словарь хотелось увидеть)))"
   ]
  },
  {
   "cell_type": "code",
   "execution_count": 104,
   "metadata": {},
   "outputs": [
    {
     "name": "stdout",
     "output_type": "stream",
     "text": [
      "('14', '26376', '3') 13301\n",
      "('12', '7316', '2') 19329\n",
      "('28', '2803', '2') 87381\n",
      "('25', '22022', '2') 94036\n",
      "('20', '13883', '5') 50722\n",
      "('14', '21304', '1') 55449\n",
      "('22', '2029', '2') 12482\n"
     ]
    }
   ],
   "source": [
    "# здесь семь строк словаря\n",
    "i=0\n",
    "for key,value in stats_dict.items():\n",
    "    print(key, value)\n",
    "    i=i+1\n",
    "    if i not in range(7): break"
   ]
  },
  {
   "cell_type": "code",
   "execution_count": 105,
   "metadata": {},
   "outputs": [],
   "source": [
    "line_to_find=('20', '20552', '3') "
   ]
  },
  {
   "cell_type": "code",
   "execution_count": 148,
   "metadata": {},
   "outputs": [
    {
     "name": "stdout",
     "output_type": "stream",
     "text": [
      "39156\n",
      "CPU times: user 2.76 ms, sys: 45 µs, total: 2.8 ms\n",
      "Wall time: 2.78 ms\n"
     ]
    }
   ],
   "source": [
    "%%time\n",
    "for i in range(10**4):\n",
    "    cost=stats_dict[line_to_find]\n",
    "print(cost)"
   ]
  },
  {
   "cell_type": "markdown",
   "metadata": {},
   "source": [
    "железо - как живое???\n",
    "Продолжительность счета меняется)))) одной и той же задачи)))\n",
    "\n",
    "\n",
    "CPU times: user 2.81 ms, sys: 77 µs, total: 2.89 ms\n",
    "Wall time: 2.88 ms\n",
    "CPU times: user 2.78 ms, sys: 59 µs, total: 2.84 ms\n",
    "Wall time: 2.83 ms\n",
    "CPU times: user 2.84 ms, sys: 70 µs, total: 2.91 ms\n",
    "Wall time: 2.9 ms\n",
    "CPU times: user 3 ms, sys: 170 µs, total: 3.17 ms\n",
    "Wall time: 3.09 ms \n",
    "CPU times: user 3.12 ms, sys: 118 µs, total: 3.23 ms\n",
    "Wall time: 3.23 ms\n",
    "CPU times: user 2.88 ms, sys: 77 µs, total: 2.96 ms\n",
    "Wall time: 2.95 ms\n",
    "CPU times: user 2.76 ms, sys: 45 µs, total: 2.8 ms\n",
    "Wall time: 2.78 ms"
   ]
  }
 ],
 "metadata": {
  "kernelspec": {
   "display_name": "Python 3",
   "language": "python",
   "name": "python3"
  },
  "language_info": {
   "codemirror_mode": {
    "name": "ipython",
    "version": 3
   },
   "file_extension": ".py",
   "mimetype": "text/x-python",
   "name": "python",
   "nbconvert_exporter": "python",
   "pygments_lexer": "ipython3",
   "version": "3.7.3"
  }
 },
 "nbformat": 4,
 "nbformat_minor": 2
}
