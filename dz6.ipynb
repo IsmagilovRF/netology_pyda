{
 "cells": [
  {
   "cell_type": "markdown",
   "metadata": {},
   "source": [
    "# Домашнее задание к лекции \"Регулярные выражения\"\n",
    "Для зачета необходимо выполнить 4 задания.  \n",
    "Для зачета с отличием – все."
   ]
  },
  {
   "cell_type": "code",
   "execution_count": 3,
   "metadata": {},
   "outputs": [],
   "source": [
    "import re"
   ]
  },
  {
   "cell_type": "markdown",
   "metadata": {},
   "source": [
    "## Задание 1"
   ]
  },
  {
   "cell_type": "markdown",
   "metadata": {},
   "source": [
    "Напишите функцию, которая принимает на вход строку и проверяет является ли она валидным транспортным номером. Если да, то функция должна возвращать отдельно номер и регион."
   ]
  },
  {
   "cell_type": "code",
   "execution_count": 129,
   "metadata": {},
   "outputs": [],
   "source": [
    "num_tr='A343 BC 777'"
   ]
  },
  {
   "cell_type": "code",
   "execution_count": 130,
   "metadata": {},
   "outputs": [],
   "source": [
    "regex_num_tr=r'([A-Z]\\d{3})(\\s[A-Z]{2}\\s)(\\d{3})'\n",
    "reg='\\s\\d{3}'\n",
    "# num='([A-Z]\\d{3})(\\s\\d{2})'\n",
    "num=r'([A-Z]\\d{3}\\s[A-Z]{2})'"
   ]
  },
  {
   "cell_type": "code",
   "execution_count": 131,
   "metadata": {},
   "outputs": [],
   "source": [
    "num_tr_result = re.findall(regex_num_tr, num_tr)\n",
    "num_reg = re.findall(reg,num_tr )\n",
    "num_t=re.findall(num,num_tr )"
   ]
  },
  {
   "cell_type": "code",
   "execution_count": 132,
   "metadata": {},
   "outputs": [
    {
     "name": "stdout",
     "output_type": "stream",
     "text": [
      "[('A343', ' BC ', '777')]\n",
      "регион: [' 777']\n",
      "номер= ['A343 BC']\n"
     ]
    }
   ],
   "source": [
    "if num_tr_result:\n",
    "    print(num_tr_result)\n",
    "    print('регион:',num_reg)\n",
    "    print('номер=',num_t)\n",
    "else:\n",
    "    print('номер не является валидным')"
   ]
  },
  {
   "cell_type": "markdown",
   "metadata": {},
   "source": [
    "## Задание 2"
   ]
  },
  {
   "cell_type": "markdown",
   "metadata": {},
   "source": [
    "Напишите функцию, которая проверяет e-mail адрес на валидность по стандарту RFC822: http://www.w3.org/Protocols/rfc822/. Для этого постарайтесь написать (в крайнем случае найти) самый полный шаблон для проверки e-mail адресов через регулярное выражение. Разберитесь и напишите примеры, какие ваш шаблон может не охватить."
   ]
  },
  {
   "cell_type": "code",
   "execution_count": 272,
   "metadata": {},
   "outputs": [
    {
     "name": "stdout",
     "output_type": "stream",
     "text": [
      "Введите email адрес: wwwww@mailert.com\n",
      "<re.Match object; span=(0, 17), match='wwwww@mailert.com'>\n",
      "Правильный email: wwwww@mailert.com\n"
     ]
    }
   ],
   "source": [
    "def get_address():\n",
    "    '''\n",
    "    проверка email\n",
    "    не поддерживает адреса на кириллице((\n",
    "    '''\n",
    "    address = input('Введите email адрес: ')\n",
    "    rez=re.match('(^|\\s)[-a-z0-9_.]+@([-a-z0-9]+\\.)+[a-z]{2,6}(\\s|$)',address)\n",
    "    print(rez)\n",
    "    if rez: \n",
    "        print(\"Правильный email:\",rez.group())\n",
    "    else:\n",
    "        print('Неверный email! Повторите ввод\\n')\n",
    "\n",
    "\n",
    "get_address()"
   ]
  },
  {
   "cell_type": "markdown",
   "metadata": {},
   "source": [
    "# Задание 3\n",
    "При помощи регулярных выражений напишите функцию, которая будет возвращать акроним переданного в нее текста."
   ]
  },
  {
   "cell_type": "code",
   "execution_count": 193,
   "metadata": {},
   "outputs": [],
   "source": [
    "text_='При помощи регулярных выражений напишите функцию, которая будет возвращать акроним переданного в нее текста.'"
   ]
  },
  {
   "cell_type": "code",
   "execution_count": 221,
   "metadata": {},
   "outputs": [
    {
     "name": "stdout",
     "output_type": "stream",
     "text": [
      "ППРВНФКБВАПВНТ\n"
     ]
    }
   ],
   "source": [
    "def akrontext(text_):\n",
    "    list_=re.findall('[\\w]?', text_)\n",
    "    words=re.findall('[\\w]+', text_)\n",
    "    akron=[]\n",
    "    akron.append(list_[0])\n",
    "    l=len(list_)\n",
    "    i=0\n",
    "    for nsi in range(1,len(list_)):\n",
    "        if list_[nsi-1]=='' and list_[nsi]!='':\n",
    "            i+=1\n",
    "            akron.append(list_[nsi])\n",
    "    akronim=\"\"\n",
    "    for i in range(len(words)): akronim += akron[i]\n",
    "    return akronim.upper()\n",
    "\n",
    "print(akrontext(text_))"
   ]
  },
  {
   "cell_type": "markdown",
   "metadata": {},
   "source": [
    "## Задание 4\n",
    "Напишите функцию, которая будет удалять все последовательные повторы слов из заданной строки."
   ]
  },
  {
   "cell_type": "code",
   "execution_count": 260,
   "metadata": {},
   "outputs": [
    {
     "name": "stdout",
     "output_type": "stream",
     "text": [
      "14 ['Напишите', 'функцию', 'которая', 'которая', 'будет', 'удалять', 'все', 'все', 'последовательные', 'повторы', 'слов', 'слов', 'заданной', 'строки']\n",
      "\n",
      "Слова, которые повторяются:\n",
      "которая i= 2\n",
      "все i= 6\n",
      "слов i= 10\n",
      "\n",
      "Индексы слов для последовательного удаления:  [2, 5, 8]\n",
      "['Напишите', 'функцию', 'которая', 'будет', 'удалять', 'все', 'последовательные', 'повторы', 'слов', 'заданной', 'строки']\n"
     ]
    }
   ],
   "source": [
    "text_1='Напишите функцию, которая которая будет удалять все все последовательные повторы слов слов  заданной строки'\n",
    "def delrep(text_1):\n",
    "    ind=[]\n",
    "    words=re.findall('[\\w]+', text_1)\n",
    "    print(len(words),words)\n",
    "    print('\\nСлова, которые повторяются:')\n",
    "    k=0\n",
    "    for i in range(len(words)-1):\n",
    "        if words[i]==words[i+1]: \n",
    "            print(words[i],'i=',i)\n",
    "            ind.append(i-k)\n",
    "            k+=1\n",
    "    print('\\nИндексы слов для последовательного удаления: ',ind)\n",
    "    for ii in range(len(ind)): del words[ind[ii]]\n",
    "    print(words)\n",
    "            \n",
    "delrep(text_1)"
   ]
  },
  {
   "cell_type": "markdown",
   "metadata": {},
   "source": [
    "## Задание 5\n",
    "Напишите функцию, которая будет проверять номер сотового телефона на валидность, если он валиден, то переводить его в формат:   \n",
    "+7(xxx)-xxx-xx-xx  \n",
    "Постарайтесь предусмотреть как можно больше адекватных форматов изначального ввода номера.\n",
    "Примеры правильных и неправильных форматов:\n",
    "- +1 555 555-55-55;\n",
    "- 5555555555;\n",
    "- 555555555;\n",
    "- 8(555)555-55-55;\n",
    "- +7 555 555 55 55;\n",
    "- 7(555) 555-55-55;\n",
    "- +7 555+555+55+55."
   ]
  },
  {
   "cell_type": "code",
   "execution_count": null,
   "metadata": {},
   "outputs": [],
   "source": []
  }
 ],
 "metadata": {
  "kernelspec": {
   "display_name": "Python 3",
   "language": "python",
   "name": "python3"
  },
  "language_info": {
   "codemirror_mode": {
    "name": "ipython",
    "version": 3
   },
   "file_extension": ".py",
   "mimetype": "text/x-python",
   "name": "python",
   "nbconvert_exporter": "python",
   "pygments_lexer": "ipython3",
   "version": "3.7.3"
  }
 },
 "nbformat": 4,
 "nbformat_minor": 2
}
