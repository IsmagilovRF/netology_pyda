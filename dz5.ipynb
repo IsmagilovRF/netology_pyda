{
 "cells": [
  {
   "cell_type": "markdown",
   "metadata": {},
   "source": [
    "# Домашнее задание\n",
    "1. Переведите содержимое файла purchase_log.txt в словарь purchases вида:\n",
    "```python\n",
    "{'1840e0b9d4': 'Продукты', ...}\n",
    "```\n",
    "\n",
    "2. Для каждого user_id в файле visit_log.csv добавьте третий столбец с категорией покупки (если покупка была).\n",
    "\n",
    "3. Запишите в файл funnel.csv визиты из файла visit_log.csv, в которых были покупки с указанием категории.\n",
    "\n",
    "Учтите условия на данные:\n",
    "- содержимое purchase_log.txt помещается в оперативную память компьютера\n",
    "- содержимое visit_log.csv - нет; используйте только построчную обработку этого файла"
   ]
  },
  {
   "cell_type": "code",
   "execution_count": 339,
   "metadata": {
    "scrolled": false
   },
   "outputs": [
    {
     "name": "stdout",
     "output_type": "stream",
     "text": [
      "\n",
      "Печать 25 строк словаря purchases:\n",
      "\n",
      "user_id category\n",
      "1840e0b9d4 Продукты\n",
      "4e4f90fcfb Электроника\n",
      "afea8d72fc Электроника\n",
      "373a6055fe Бытовая техника\n",
      "9b2ab046f3 Электроника\n",
      "9f39d307c3 Электроника\n",
      "44edeffc91 Продукты\n",
      "704474fa2d Продукты\n",
      "1de31be403 Бытовая техника\n",
      "b71f36a5e4 Продукты\n",
      "79843a685a Продукты\n",
      "ff68cee0d6 Бытовая техника\n",
      "e8447c40e2 Досуг\n",
      "98d290be27 Электроника\n",
      "fa0079a5a8 Досуг\n",
      "22d2f03a17 Досуг\n",
      "3f8e1ccd3f Электроника\n",
      "81a9988b83 Электроника\n",
      "65f44a2eb7 Досуг\n",
      "5f8fbb0149 Бытовая техника\n",
      "3ecff691fd Электроника\n",
      "dd0e912251 Электроника\n",
      "9250593d55 Электроника\n",
      "37c4e090e4 Электроника\n",
      "22fa3ea76f Электроника\n"
     ]
    }
   ],
   "source": [
    "#  ЗАДАНИЕ 1. Переведите содержимое файла purchase_log.txt в словарь purchases вида:\n",
    "# ```python\n",
    "# {'1840e0b9d4': 'Продукты', ...}\n",
    "i=0\n",
    "with open('purchase_log.txt') as f:\n",
    "    purchases={}\n",
    "    list_=[]\n",
    "    for line in f:\n",
    "        line = line.strip() # здесь убираем пробелы и переносы из строки спр и сл\n",
    "        # strip - удаляект переносы строк и лишние пробелы справа и слева \n",
    "        dict_ = json.loads(line) # метод json.loads(line) позволяет из объекта str \n",
    "                                 # (в данном случае это line) сделать словарь dict_\n",
    "        # print(dict_, type(dict_))    # это печать словаря\n",
    "        a=dict_['user_id']\n",
    "        b=dict_['category']\n",
    "        #list_.append([a,b])    - накапливаем a и b построчно в списке \n",
    "        purchases[a]= b         # накапливаем a и b построчно в словаре \n",
    "#       i += 1\n",
    "#       if i > 200:\n",
    "#          break\n",
    "    print('\\nПечать 25 строк словаря purchases:\\n')\n",
    "    i=0\n",
    "    for key,value in purchases.items():\n",
    "        print(key,value)\n",
    "        i += 1\n",
    "        if i > 25:\n",
    "            break"
   ]
  },
  {
   "cell_type": "code",
   "execution_count": 230,
   "metadata": {},
   "outputs": [],
   "source": [
    "# ЗАДАНИЕ 2. Для каждого user_id в файле visit_log.csv добавьте третий столбец \n",
    "#                                      с категорией покупки (если покупка была).\n",
    "###    ps. результат записан в три столбца нового файла visit_log_4.csv. "
   ]
  },
  {
   "cell_type": "code",
   "execution_count": 372,
   "metadata": {},
   "outputs": [
    {
     "name": "stdout",
     "output_type": "stream",
     "text": [
      "========= напечатаем 25 строк из файла: visit_log_4.csv ==========\n",
      "user_id,source,category\n",
      "6450655ae8,other,0\n",
      "b4ea53e670,other,0\n",
      "0e37347152,other,0\n",
      "96064ae9e0,other,0\n",
      "e1bd168161,context,0\n",
      "71bcf169b4,other,0\n",
      "e0aee73c5d,other,0\n",
      "1f8845e157,context,0\n",
      "78d22c5c78,other,0\n",
      "dd85040770,other,0\n",
      "2301051b25,other,0\n",
      "86835b81ac,context,0\n",
      "90d9a575a2,other,0\n",
      "1b75c4f23f,other,0\n",
      "d94b908660,None,0\n",
      "f697206af5,other,0\n",
      "8a9a2de36e,other,0\n",
      "dd3d43c266,context,0\n",
      "f6401d302f,context,0\n",
      "b18d58560b,email,0\n",
      "ed79586589,other,0\n",
      "1840e0b9d4,other,Продукты\n",
      "b4afdc5ccc,other,0\n",
      "470248aabf,other,0\n"
     ]
    }
   ],
   "source": [
    "ind=0\n",
    "with open('visit_log.csv', 'r') as f, open('visit_log_4.csv', 'w') as fw:\n",
    "    for content in f:  # просматриваем строки файла f\n",
    "        for key,value in purchases.items(): # используем словарь purchases\n",
    "            if content.split(',')[0].strip()== key: \n",
    "              # если user_id совпадает с key словаря, формируем строчку\n",
    "              # для записи в файл (visit_log_4.csv) с третьим столбцом value:\n",
    "                str_=content.strip()+ ','+value\n",
    "                fw.write(str_+'\\n')\n",
    "                ind=1\n",
    "        if content.split(',')[0].strip()!= key: \n",
    "           # если user_id не совпадает с key словаря, формируем строчку \n",
    "           # для записи в файл (visit_log_4.csv) с нулевыми элементами в третьем столбце:\n",
    "            str_=content.strip()+ ','+'0'\n",
    "            if ind == 0: fw.write(str_+ '\\n')\n",
    "            ind=0\n",
    "fff = open('visit_log_4.csv', 'r')\n",
    "print('========= напечатаем 25 строк из файла: visit_log_4.csv ==========')\n",
    "for _ in range(25):\n",
    "    print(fff.readline().strip())\n",
    "fff.close() "
   ]
  },
  {
   "cell_type": "code",
   "execution_count": 374,
   "metadata": {},
   "outputs": [],
   "source": [
    "# ЗАДАНИЕ 3. Запишите в файл funnel.csv визиты из файла visit_log.csv, в которых \n",
    "#         были покупки с указанием категории.\n"
   ]
  },
  {
   "cell_type": "code",
   "execution_count": 373,
   "metadata": {},
   "outputs": [
    {
     "name": "stdout",
     "output_type": "stream",
     "text": [
      "========= напечатаем 15 строк из файла: funnel.csv ==========\n",
      "user_id category\n",
      "1840e0b9d4 Продукты\n",
      "4e4f90fcfb Электроника\n",
      "afea8d72fc Электроника\n",
      "2824221f38 Продукты\n",
      "373a6055fe Бытовая техника\n",
      "9b2ab046f3 Электроника\n",
      "9f39d307c3 Электроника\n",
      "44edeffc91 Продукты\n",
      "704474fa2d Продукты\n",
      "1de31be403 Бытовая техника\n",
      "5da0dedf13 Досуг\n",
      "b71f36a5e4 Продукты\n",
      "79843a685a Продукты\n",
      "ff68cee0d6 Бытовая техника\n"
     ]
    }
   ],
   "source": [
    "#i=0\n",
    "with open('visit_log_4.csv', 'r') as f, open('funnel.csv', 'w') as fw:\n",
    "    for content in f:  # просматриваем строки файла visits_context.csv\n",
    "        if content.split(',')[2].strip()!='0':\n",
    "            str_=content.split(',')[0].strip()+' '+content.split(',')[2].strip()\n",
    "            fw.write(str_+'\\n')        # запись в файл funnel.csv\n",
    "        #i+=1\n",
    "        #if i>200:\n",
    "        #    break\n",
    "fff = open('funnel.csv', 'r')\n",
    "print('========= напечатаем 15 строк из файла: funnel.csv ==========')\n",
    "for _ in range(15):\n",
    "    print(fff.readline().strip())\n",
    "fff.close()"
   ]
  },
  {
   "cell_type": "code",
   "execution_count": null,
   "metadata": {},
   "outputs": [],
   "source": []
  },
  {
   "cell_type": "code",
   "execution_count": null,
   "metadata": {},
   "outputs": [],
   "source": []
  },
  {
   "cell_type": "code",
   "execution_count": null,
   "metadata": {},
   "outputs": [],
   "source": []
  }
 ],
 "metadata": {
  "kernelspec": {
   "display_name": "Python 3",
   "language": "python",
   "name": "python3"
  },
  "language_info": {
   "codemirror_mode": {
    "name": "ipython",
    "version": 3
   },
   "file_extension": ".py",
   "mimetype": "text/x-python",
   "name": "python",
   "nbconvert_exporter": "python",
   "pygments_lexer": "ipython3",
   "version": "3.7.3"
  }
 },
 "nbformat": 4,
 "nbformat_minor": 2
}
