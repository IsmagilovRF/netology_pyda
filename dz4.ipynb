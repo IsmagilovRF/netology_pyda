{
 "cells": [
  {
   "cell_type": "markdown",
   "metadata": {},
   "source": [
    "# Задание к лекции \"Функции\".\n",
    "Для зачета необходимо правильно выполнить 4 заданий из 6.  \n",
    "Для зачета с отличием – все 6."
   ]
  },
  {
   "cell_type": "markdown",
   "metadata": {},
   "source": [
    "## Задание 1"
   ]
  },
  {
   "cell_type": "markdown",
   "metadata": {},
   "source": [
    "Дан список вида:"
   ]
  },
  {
   "cell_type": "code",
   "execution_count": 1,
   "metadata": {},
   "outputs": [],
   "source": [
    "data = [\n",
    "    [13, 25, 23, 34],\n",
    "    [45, 32, 44, 47],\n",
    "    [12, 33, 23, 95],\n",
    "    [13, 53, 34, 35]\n",
    "]"
   ]
  },
  {
   "cell_type": "code",
   "execution_count": 21,
   "metadata": {},
   "outputs": [
    {
     "name": "stdout",
     "output_type": "stream",
     "text": [
      "Сумма элементов на диагонали =  103\n"
     ]
    }
   ],
   "source": [
    "def sum_d(data_q):\n",
    "    s=0\n",
    "    for i in range(len(data_q)):\n",
    "        s=s+data[i][i]\n",
    "    return s\n",
    "print('Сумма элементов на диагонали = ', sum_d(data))"
   ]
  },
  {
   "cell_type": "markdown",
   "metadata": {},
   "source": [
    "Напишите функцию, которая возвращает сумму элементов на диагонали. Т. е. 13+32+23+35.  \n",
    "Список может быть любой длины, но всегда является \"квадратным\" (количество элементов во вложенных списках равно их количеству)."
   ]
  },
  {
   "cell_type": "markdown",
   "metadata": {},
   "source": [
    "## Задание 2"
   ]
  },
  {
   "cell_type": "markdown",
   "metadata": {},
   "source": [
    "Напишите функцию, возвращающую сумму первых n чисел Фибоначчи (для этого вам может понадобится ознакомиться с рекурсией)."
   ]
  },
  {
   "cell_type": "code",
   "execution_count": 3,
   "metadata": {},
   "outputs": [
    {
     "name": "stdout",
     "output_type": "stream",
     "text": [
      "Введите количество чисел Фибоначчи n=9\n",
      "Сумма  9 чисел Фибоначи равна  88\n"
     ]
    }
   ],
   "source": [
    "# Рекурсивное вычисление n-го числа ряда Фибоначчи\n",
    "# Если n = 1 или n = 2, вернуть в вызывающую ветку единицу. \n",
    "# Во всех остальных случаях вызвать эту же функцию с аргументами n - 1 и n - 2. \n",
    "# Результат двух вызовов сложить и вернуть в вызывающую ветку программы.\n",
    "\n",
    "def fibonacci(n):\n",
    "    if n in (1, 2):\n",
    "        return 1\n",
    "    return fibonacci(n - 1) + fibonacci(n - 2)\n",
    "s=0\n",
    "n=int(input('Введите количество чисел Фибоначчи n='))\n",
    "for i in range(1,n+1):\n",
    "    s=s+fibonacci(i)\n",
    "print('Сумма ',i,'чисел Фибоначи равна ',s) "
   ]
  },
  {
   "cell_type": "markdown",
   "metadata": {},
   "source": [
    "## Задание 3"
   ]
  },
  {
   "cell_type": "code",
   "execution_count": 213,
   "metadata": {},
   "outputs": [],
   "source": [
    "cook_book = {\n",
    "  'салат': [\n",
    "     {'ingridient_name': 'сыр', 'quantity': 50, 'measure': 'гр'},\n",
    "     {'ingridient_name': 'томаты', 'quantity': 20, 'measure': 'гр'},\n",
    "     {'ingridient_name': 'огурцы', 'quantity': 20, 'measure': 'гр'},\n",
    "     {'ingridient_name': 'маслины', 'quantity': 10, 'measure': 'гр'},\n",
    "     {'ingridient_name': 'оливковое_масло', 'quantity': 20, 'measure': 'мл'},\n",
    "     {'ingridient_name': 'салат', 'quantity': 10, 'measure': 'гр'},\n",
    "     {'ingridient_name': 'перец', 'quantity': 20, 'measure': 'гр'}\n",
    "    ],\n",
    "  'пицца': [\n",
    "     {'ingridient_name': 'сыр', 'quantity': 20, 'measure': 'гр'},\n",
    "     {'ingridient_name': 'колбаса', 'quantity': 30, 'measure': 'гр'},\n",
    "     {'ingridient_name': 'бекон', 'quantity': 30, 'measure': 'гр'},\n",
    "     {'ingridient_name': 'оливки', 'quantity': 10, 'measure': 'гр'},\n",
    "     {'ingridient_name': 'томаты', 'quantity': 20, 'measure': 'гр'},\n",
    "     {'ingridient_name': 'тесто', 'quantity': 100, 'measure': 'гр'},   \n",
    "    ],\n",
    "  'лимонад': [\n",
    "     {'ingridient_name': 'лимон', 'quantity': 1, 'measure': 'шт'},\n",
    "     {'ingridient_name': 'вода', 'quantity': 200, 'measure': 'мл'},\n",
    "     {'ingridient_name': 'сахар', 'quantity': 10, 'measure': 'гр'},\n",
    "     {'ingridient_name': 'лайм', 'quantity': 20, 'measure': 'гр'},    \n",
    "    ]\n",
    "}"
   ]
  },
  {
   "cell_type": "code",
   "execution_count": 6,
   "metadata": {},
   "outputs": [],
   "source": [
    "# cook_book"
   ]
  },
  {
   "cell_type": "markdown",
   "metadata": {},
   "source": [
    "Напишите программу (она может состоять из нескольких функций), которая будет запрашивать у пользователя количество гостей и список блюд, которые будут подаваться каждому гостю. В результате программа должна выдавать список покупок, состоящий из ингредиентов, которые нужно купить в магазине (если ингредиенты повторяются, то их нужно записать одной строкой, а не отдельно).\n",
    "\n",
    "Пример:\n",
    "\n",
    "вызов\\_главной\\_функций()\n",
    "\n",
    "Введите количество гостей: 3  \n",
    "Введите блюда через пробел: пицца пицца лимонад\n",
    "\n",
    "Список покупок:  \n",
    "сыр 120 гр  \n",
    "колбаса 180 гр  \n",
    "бекон 180 гр  \n",
    "оливки 60 гр  \n",
    "томаты 120 гр  \n",
    "тесто 600 гр  \n",
    "лимон 3 шт  \n",
    "вода 600 мл  \n",
    "сахар 30 гр  \n",
    "лайм 60 гр  "
   ]
  },
  {
   "cell_type": "code",
   "execution_count": 214,
   "metadata": {},
   "outputs": [
    {
     "name": "stdout",
     "output_type": "stream",
     "text": [
      "Введите количество гостей: 3\n",
      "Введите блюда через пробел: пицца пицца лимонад\n"
     ]
    }
   ],
   "source": [
    "aa_list=[]\n",
    "blud_list=[]\n",
    "n=int(input('Введите количество гостей: '))\n",
    "blud=input('Введите блюда через пробел: ')"
   ]
  },
  {
   "cell_type": "code",
   "execution_count": 216,
   "metadata": {},
   "outputs": [
    {
     "name": "stdout",
     "output_type": "stream",
     "text": [
      "['пицца', 'пицца', 'лимонад']\n",
      "{'ingridient_name': 'сыр', 'quantity': 50, 'measure': 'гр'}\n",
      "{'ingridient_name': 'томаты', 'quantity': 20, 'measure': 'гр'}\n",
      "{'ingridient_name': 'огурцы', 'quantity': 20, 'measure': 'гр'}\n",
      "{'ingridient_name': 'маслины', 'quantity': 10, 'measure': 'гр'}\n",
      "{'ingridient_name': 'оливковое_масло', 'quantity': 20, 'measure': 'мл'}\n",
      "{'ingridient_name': 'салат', 'quantity': 10, 'measure': 'гр'}\n",
      "{'ingridient_name': 'перец', 'quantity': 20, 'measure': 'гр'}\n",
      "7 6 4\n"
     ]
    }
   ],
   "source": [
    "blud_list=blud.strip().split() # получили из строки blud список элементов, разделенных запятыми\n",
    "print(blud_list)\n",
    "#lis=['салат','пицца','лимонад']\n",
    "line_s=len(cook_book['салат'])\n",
    "for line in range(line_s):\n",
    "    value_=cook_book['салат'][line] # обращение к элементу словаря (элемент - тоже словарь)\n",
    "    print(value_)\n",
    "print(len(cook_book['салат']),len(cook_book['пицца']),len(cook_book['лимонад']))"
   ]
  },
  {
   "cell_type": "code",
   "execution_count": 217,
   "metadata": {},
   "outputs": [
    {
     "name": "stdout",
     "output_type": "stream",
     "text": [
      "Список необходимых покупок:\n",
      "____________ пицца\n",
      "сыр(гр) 20\n",
      "колбаса(гр) 30\n",
      "бекон(гр) 30\n",
      "оливки(гр) 10\n",
      "томаты(гр) 20\n",
      "тесто(гр) 100\n",
      "____________ пицца\n",
      "сыр(гр) 20\n",
      "колбаса(гр) 30\n",
      "бекон(гр) 30\n",
      "оливки(гр) 10\n",
      "томаты(гр) 20\n",
      "тесто(гр) 100\n",
      "____________ лимонад\n",
      "лимон(шт) 1\n",
      "вода(мл) 200\n",
      "сахар(гр) 10\n",
      "лайм(гр) 20\n",
      "aa_list ['лайм(гр)', '20']\n",
      "продукты для заказа\n"
     ]
    },
    {
     "data": {
      "text/plain": [
       "[['сыр(гр)', '20'],\n",
       " ['колбаса(гр)', '30'],\n",
       " ['бекон(гр)', '30'],\n",
       " ['оливки(гр)', '10'],\n",
       " ['томаты(гр)', '20'],\n",
       " ['тесто(гр)', '100'],\n",
       " ['сыр(гр)', '20'],\n",
       " ['колбаса(гр)', '30'],\n",
       " ['бекон(гр)', '30'],\n",
       " ['оливки(гр)', '10'],\n",
       " ['томаты(гр)', '20'],\n",
       " ['тесто(гр)', '100'],\n",
       " ['лимон(шт)', '1'],\n",
       " ['вода(мл)', '200'],\n",
       " ['сахар(гр)', '10'],\n",
       " ['лайм(гр)', '20']]"
      ]
     },
     "execution_count": 217,
     "metadata": {},
     "output_type": "execute_result"
    }
   ],
   "source": [
    "list_buy=[]\n",
    "print('Список необходимых покупок:')\n",
    "i=0\n",
    "for p in blud_list:\n",
    "    print('____________',p)\n",
    "    line_s=len(cook_book[p])\n",
    "    for line in range(line_s):\n",
    "        a=cook_book[p][line]['ingridient_name']\n",
    "        b=cook_book[p][line]['quantity']\n",
    "        c=cook_book[p][line]['measure']\n",
    "        aa=a+'('+c+')'+' '+str(b)   # формирование строки aa\n",
    "        aa_list=aa.strip().split()  # получили из строки aa список элементов, разделенных запятыми\n",
    "        list_buy.append(aa_list)    # построчно заполнили список продуктов заказа\n",
    "        print(aa)\n",
    "        i=i+1\n",
    "print('aa_list', aa_list)\n",
    "print('продукты для заказа')\n",
    "list_buy             # это список всех продуктов для выполнения заказа\n"
   ]
  },
  {
   "cell_type": "code",
   "execution_count": 225,
   "metadata": {
    "scrolled": true
   },
   "outputs": [
    {
     "name": "stdout",
     "output_type": "stream",
     "text": [
      " Cписок покупок, состоящий из  всех ингредиентов (для всех гостей), \n",
      " которые нужно купить в магазине\n"
     ]
    },
    {
     "data": {
      "text/plain": [
       "{'сыр(гр)': 120,\n",
       " 'колбаса(гр)': 180,\n",
       " 'бекон(гр)': 180,\n",
       " 'оливки(гр)': 60,\n",
       " 'томаты(гр)': 120,\n",
       " 'тесто(гр)': 600,\n",
       " 'лимон(шт)': 3,\n",
       " 'вода(мл)': 600,\n",
       " 'сахар(гр)': 30,\n",
       " 'лайм(гр)': 60}"
      ]
     },
     "execution_count": 225,
     "metadata": {},
     "output_type": "execute_result"
    }
   ],
   "source": [
    "stats = {}                               # суммируем одинаковые продукты\n",
    "for line in list_buy:\n",
    "    stats.setdefault(line[0], 0)         # заполняем нулевой столбец ключами\n",
    "    stats[line[0]] +=  n*int(line[1])    # накапливаем значения (для n гостей)\n",
    "print(' Cписок покупок, состоящий из  всех ингредиентов (для всех гостей), \\n которые нужно купить в магазине')\n",
    "stats"
   ]
  },
  {
   "cell_type": "markdown",
   "metadata": {},
   "source": [
    "## Задание 4"
   ]
  },
  {
   "cell_type": "markdown",
   "metadata": {},
   "source": [
    "Вы работаете секретарем и вам постоянно приходят различные документы. Вы должны быть очень внимательны, чтобы не потерять ни один документ. Каталог документов хранится в следующем виде:"
   ]
  },
  {
   "cell_type": "code",
   "execution_count": 18,
   "metadata": {},
   "outputs": [
    {
     "data": {
      "text/plain": [
       "[{'type': 'passport', 'number': '2207 876234', 'name': 'Василий Гупкин'},\n",
       " {'type': 'invoice', 'number': '11-2', 'name': 'Геннадий Покемонов'},\n",
       " {'type': 'insurance', 'number': '10006', 'name': 'Аристарх Павлов'}]"
      ]
     },
     "execution_count": 18,
     "metadata": {},
     "output_type": "execute_result"
    }
   ],
   "source": [
    "documents = [\n",
    "    {'type': 'passport', 'number': '2207 876234', 'name': 'Василий Гупкин'},\n",
    "    {'type': 'invoice', 'number': '11-2', 'name': 'Геннадий Покемонов'},\n",
    "    {'type': 'insurance', 'number': '10006', 'name': 'Аристарх Павлов'}\n",
    "]\n",
    "documents"
   ]
  },
  {
   "cell_type": "code",
   "execution_count": 48,
   "metadata": {},
   "outputs": [
    {
     "name": "stdout",
     "output_type": "stream",
     "text": [
      "Введите номер документа: 10006\n",
      "Документ: insurance № 10006  принадлежит:  Аристарх Павлов\n",
      "None\n"
     ]
    }
   ],
   "source": [
    "#com=input('Введите команду (p – people)')\n",
    "# p – people – команда, которая спросит номер документа и выведет имя человека, которому он принадлежит\n",
    "\n",
    "def fun_p():Иванов Максим\n",
    "    ndoc=(input('Введите номер документа: '))\n",
    "    for line in range(len(documents)): # просмотр всех документов по порядку в каталоге\n",
    "        a=documents[line]['type']\n",
    "        b=documents[line]['number']\n",
    "        c=documents[line]['name']\n",
    "        if b==ndoc: \n",
    "            print('Документ:',a,'№',b,' принадлежит: ', c)\n",
    "    return\n",
    "print(fun_p())\n"
   ]
  },
  {
   "cell_type": "code",
   "execution_count": 60,
   "metadata": {},
   "outputs": [
    {
     "name": "stdout",
     "output_type": "stream",
     "text": [
      "Введите номер документа: 11-2\n",
      "Номер полки = 1 , на которой находится документ № 11-2\n",
      "None\n"
     ]
    }
   ],
   "source": [
    "#com=input('Введите команду (s – shelf) ')\n",
    "# s – shelf – команда, которая спросит номер документа и выведет номер полки, \n",
    "#                      на которой он находится\n",
    "def fun_s():\n",
    "    ndoc=(input('Введите номер документа: '))\n",
    "    for line in range(len(documents)): # просмотр всех документов по порядку в каталоге\n",
    "        b=documents[line]['number']\n",
    "        if b==ndoc: \n",
    "            for key, value in directories.items():         # определение номера полки\n",
    "                for i in range(len(value)):\n",
    "                    if value[i]==b:\n",
    "                        print('Номер полки =', key, ', на которой находится документ №' ,value[i]) \n",
    "print(fun_s())"
   ]
  },
  {
   "cell_type": "markdown",
   "metadata": {},
   "source": [
    "## Перечень полок, на которых находятся документы хранится в следующем виде:"
   ]
  },
  {
   "cell_type": "code",
   "execution_count": 70,
   "metadata": {},
   "outputs": [
    {
     "data": {
      "text/plain": [
       "{'1': ['2207 876234', '11-2', '5455 028765'],\n",
       " '2': ['10006', '5400 028765', '5455 002299'],\n",
       " '3': []}"
      ]
     },
     "execution_count": 70,
     "metadata": {},
     "output_type": "execute_result"
    }
   ],
   "source": [
    "directories = {\n",
    "    '1': ['2207 876234', Иванов Максим'11-2', '5455 028765'],\n",
    "    '2': ['10006', '5400 028765', '5455 002299'],\n",
    "    '3': []\n",
    "}\n",
    "directories"
   ]
  },
  {
   "cell_type": "markdown",
   "metadata": {},
   "source": [
    "Необходимо реализовать пользовательские команды (внимание! это не название функций, которые должны быть выразительными, а команды, которые вводит пользователь, чтобы получить необходимый результат):\n",
    "  \n",
    "- p – people – команда, которая спросит номер документа и выведет имя человека, которому он принадлежит;  \n",
    "- s – shelf – команда, которая спросит номер документа и выведет номер полки, на которой он находится  \n",
    "Правильно обработайте ситуацию, когда пользователь будет вводить несуществующий документ."
   ]
  },
  {
   "cell_type": "markdown",
   "metadata": {},
   "source": [
    "## Задание 5"
   ]
  },
  {
   "cell_type": "markdown",
   "metadata": {},
   "source": [
    "К условию из задания 5 реализуйте следующие команды:\n",
    "  \n",
    "- l – list – команда, которая выведет список всех документов в формате   \n",
    "**passport \"2207 876234\" \"Василий Гупкин\"**  \n",
    "- as – add shelf – команда, которая спросит номер новой полки и добавит ее в перечень"
   ]
  },
  {
   "cell_type": "code",
   "execution_count": 289,
   "metadata": {},
   "outputs": [
    {
     "name": "stdout",
     "output_type": "stream",
     "text": [
      "Выводим список всех документов: \n",
      "passport № 2207 876234 Василий Гупкин\n",
      "invoice № 11-2 Геннадий Покемонов\n",
      "insurance № 10006 Аристарх Павлов\n",
      "None\n"
     ]
    }
   ],
   "source": [
    "# l – list – команда, которая выведет список всех документов в формате\n",
    "# com=input('Введите команду (l – list) ')\n",
    "def fun_l():\n",
    "    list_l=[1,2,3]\n",
    "    for line in range(len(documents)): # просмотр всех документов по порядку в каталоге\n",
    "        a=documents[line]['type']\n",
    "        b=documents[line]['number']\n",
    "        c=documents[line]['name']\n",
    "        list_l[line]=[a,b,c]\n",
    "    print('Выводим список всех документов: ')\n",
    "    for line in list_l:\n",
    "        print(line[0],\"№\", line[1] ,line[2])   \n",
    "\n",
    "print(fun_l())"
   ]
  },
  {
   "cell_type": "code",
   "execution_count": 287,
   "metadata": {},
   "outputs": [
    {
     "name": "stdout",
     "output_type": "stream",
     "text": [
      "Ввести номер полки : 123\n",
      "Обратились к полке № 123\n",
      "{'1': ['2207 876234', '11-2', '5455 028765'], '2': ['10006', '5400 028765', '5455 002299'], '3': [], '123': []}\n",
      "n_pol= 123\n"
     ]
    }
   ],
   "source": [
    "# as – add shelf – команда, которая спросит номер новой полки и добавит ее в перечень\n",
    "#com=input('Введите команду (as – add shelf) ')\n",
    "def fun_as():\n",
    "    n_polk=input('Ввести номер полки : ')\n",
    "    directories.setdefault(n_polk, []) # Формируем новый элемент словаря directories\n",
    "    print(\"Обратились к полке №\",n_polk)\n",
    "    print(directories)\n",
    "    return n_polk\n",
    "   \n",
    "n_pol=fun_as()\n",
    "print('n_pol=',n_pol)"
   ]
  },
  {
   "cell_type": "markdown",
   "metadata": {},
   "source": [
    "## Задание 6"
   ]
  },
  {
   "cell_type": "markdown",
   "metadata": {},
   "source": [
    "К условию из задания 5 реализуйте следующие команды:  \n",
    "  \n",
    "- d – delete – команда, которая спросит номер документа и удалит его из каталога и из перечня полок. Предусмотрите сценарий, когда пользователь вводит несуществующий документ;  \n",
    "- m – move – команда, которая спросит номер документа и целевую полку и переместит его с текущей полки на целевую. Корректно обработайте кейсы, когда пользователь пытается переместить несуществующий документ или переместить документ на несуществующую полку;  \n",
    "- a – add – команда, которая добавит новый документ в каталог и в перечень полок, спросив его номер, тип, имя владельца и номер полки, на котором он будет храниться."
   ]
  },
  {
   "cell_type": "code",
   "execution_count": 290,
   "metadata": {},
   "outputs": [
    {
     "data": {
      "text/plain": [
       "[{'type': 'passport', 'number': '2207 876234', 'name': 'Василий Гупкин'},\n",
       " {'type': 'invoice', 'number': '11-2', 'name': 'Геннадий Покемонов'},\n",
       " {'type': 'insurance', 'number': '10006', 'name': 'Аристарх Павлов'}]"
      ]
     },
     "execution_count": 290,
     "metadata": {},
     "output_type": "execute_result"
    }
   ],
   "source": [
    "documents = [\n",
    "    {'type': 'passport', 'number': '2207 876234', 'name': 'Василий Гупкин'},\n",
    "    {'type': 'invoice', 'number': '11-2', 'name': 'Геннадий Покемонов'},\n",
    "    {'type': 'insurance', 'number': '10006', 'name': 'Аристарх Павлов'}\n",
    "]\n",
    "documents"
   ]
  },
  {
   "cell_type": "code",
   "execution_count": 291,
   "metadata": {},
   "outputs": [
    {
     "data": {
      "text/plain": [
       "{'1': ['2207 876234', '11-2', '5455 028765'],\n",
       " '2': ['10006', '5400 028765', '5455 002299'],\n",
       " '3': []}"
      ]
     },
     "execution_count": 291,
     "metadata": {},
     "output_type": "execute_result"
    }
   ],
   "source": [
    "directories = {\n",
    "    '1': ['2207 876234', '11-2', '5455 028765'],\n",
    "    '2': ['10006', '5400 028765', '5455 002299'],\n",
    "    '3': []\n",
    "}\n",
    "directories"
   ]
  },
  {
   "cell_type": "code",
   "execution_count": 254,
   "metadata": {},
   "outputs": [
    {
     "name": "stdout",
     "output_type": "stream",
     "text": [
      "Введите номер документа для удаления: 11-2\n",
      "С полки № 1    удалили документ № 11-2\n",
      "Перечень документов на полках без документа №: 11-2\n",
      "{'1': ['2207 876234', '5455 028765'], '2': ['10006', '5400 028765', '5455 002299'], '3': []}\n",
      "Каталог без документа №  11-2\n",
      "[{'type': 'passport', 'number': '2207 876234', 'name': 'Василий Гупкин'}, {'type': 'insurance', 'number': '10006', 'name': 'Аристарх Павлов'}]\n",
      "None\n"
     ]
    }
   ],
   "source": [
    "# Команда d – delete – команда, которая спросит номер документа и \n",
    "#                          удалит его из каталога и из перечня полок\n",
    "#com=input(\"Введите команду для удаления документа (d – delete): \")\n",
    "#if com=='d':\n",
    "def fun_d():\n",
    "    doc_d=input('Введите номер документа для удаления: ')\n",
    "    # Поиск документа с указанным номером в каталоге документов\n",
    "    b=doc_d\n",
    "    for key, value in directories.items(): \n",
    "        for i in range(len(value)):\n",
    "            # определение номера полки\n",
    "            if value[i]==b:\n",
    "                key1=key\n",
    "                i1=i\n",
    "                print('С полки №', key, '   удалили документ №' ,value[i])\n",
    "                print('Перечень документов на полках без документа №:', value[i])\n",
    "    del directories[key1][i1] # удаляем документ с соответствующей полки\n",
    "    print(directories)\n",
    "    for line in range(len(documents)): # просмотр всех документов в каталоге\n",
    "        bb=documents[line]['number']\n",
    "        if b==bb: \n",
    "            line2=line\n",
    "    del documents[line2] # удаляем строку с документом  из каталога\n",
    "    print('Каталог без документа № ', b)\n",
    "    print(documents)\n",
    "    \n",
    "print(fun_d())"
   ]
  },
  {
   "cell_type": "code",
   "execution_count": 250,
   "metadata": {},
   "outputs": [
    {
     "name": "stdout",
     "output_type": "stream",
     "text": [
      "Введите номер документа для перемещения: №10006\n",
      "Введите номер целевой полки: 1\n",
      "С полки № 2    убрали документ № 10006\n",
      "Перечень документов на полках без документа № 10006\n",
      "{'1': ['2207 876234', '11-2', '5455 028765'], '2': ['5400 028765', '5455 002299'], '3': []}\n",
      "Перечень документов на полках c документом № 10006 на новой полке № 1\n",
      "{'1': ['2207 876234', '11-2', '5455 028765', '10006'], '2': ['5400 028765', '5455 002299'], '3': []}\n",
      "None\n"
     ]
    }
   ],
   "source": [
    "# m – move – команда, которая спросит номер документа и целевую полку\n",
    "# и переместит его с текущей полки на целевую. \n",
    "# Корректно обработайте кейсы, когда пользователь пытается переместить \n",
    "# несуществующий документ или переместить документ на несуществующую полку;  \n",
    "\n",
    "def fun_m():\n",
    "    doc_m=input('Введите номер документа для перемещения: №')\n",
    "    n_pol=input('Введите номер целевой полки: ')\n",
    "    # Поиск документа с указанным номером в каталоге документов\n",
    "    # обращение к элементу словаря\n",
    "    b=doc_m\n",
    "    for key, value in directories.items(): \n",
    "        for i in range(len(value)):\n",
    "            # определение номера полки\n",
    "            if value[i]==b:\n",
    "                key1=key\n",
    "                i1=i\n",
    "                print('С полки №', key, '   убрали документ №' ,value[i])\n",
    "                print('Перечень документов на полках без документа №', value[i])\n",
    "    # print('key1=',key1,'i1=',i1,directories[key1][i1])\n",
    "    del directories[key1][i1] # удаляем документ i1 с полки key1\n",
    "    print(directories)   \n",
    "    # добавляем этот документ на другую полку\n",
    "    for key, value in directories.items(): \n",
    "        if key==n_pol:\n",
    "            directories[n_pol]=list(value)+[b]\n",
    "    print('Перечень документов на полках c документом №', doc_m, 'на новой полке №',n_pol)\n",
    "    print(directories)\n",
    "\n",
    "print(fun_m())\n"
   ]
  },
  {
   "cell_type": "code",
   "execution_count": 292,
   "metadata": {},
   "outputs": [
    {
     "name": "stdout",
     "output_type": "stream",
     "text": [
      "Введите номер документа: №123321\n",
      "Введите тип документа: диплом\n",
      "Введите имя владельца: Михайлов Алексей\n",
      "Ввести номер полки : 123\n",
      "Обратились к полке № 123\n",
      "{'1': ['2207 876234', '11-2', '5455 028765'], '2': ['10006', '5400 028765', '5455 002299'], '3': [], '123': []}\n",
      "Перечень документов c документом № 123321 на полке № 123\n",
      "{'1': ['2207 876234', '11-2', '5455 028765'], '2': ['10006', '5400 028765', '5455 002299'], '3': [], '123': ['123321']}\n",
      "Новый перечень документов\n",
      "[{'type': 'passport', 'number': '2207 876234', 'name': 'Василий Гупкин'}, {'type': 'invoice', 'number': '11-2', 'name': 'Геннадий Покемонов'}, {'type': 'insurance', 'number': '10006', 'name': 'Аристарх Павлов'}, {'type': 'диплом', 'number': '123321', 'name': 'Михайлов Алексей'}]\n",
      "None\n"
     ]
    }
   ],
   "source": [
    "# a – add – команда, которая добавит новый документ в каталог и в перечень полок, \n",
    "# спросив его номер, тип, имя владельца и номер полки, на котором он будет храниться.\n",
    "def fun_add():\n",
    "    n_doc=input('Введите номер документа: №')\n",
    "    t_doc=input('Введите тип документа: ')\n",
    "    name_doc=input('Введите имя владельца: ')\n",
    "# Вводим номер полки для хранения документа') \n",
    "    n_pol=fun_as()\n",
    "# добавляем документ на новую полку\n",
    "    for key, value in directories.items(): \n",
    "        if key==n_pol:\n",
    "            directories[n_pol]=list(value)+[n_doc]\n",
    "    print('Перечень документов c документом №', n_doc, 'на полке №',n_pol)\n",
    "    print(directories)\n",
    "# добавляем документ в каталог документов\n",
    "    documents.append({'type': t_doc, 'number': n_doc, 'name': name_doc})\n",
    "    print('Новый перечень документов')\n",
    "    print(documents)\n",
    "    \n",
    "print(fun_add())"
   ]
  },
  {
   "cell_type": "code",
   "execution_count": 294,
   "metadata": {},
   "outputs": [
    {
     "name": "stdout",
     "output_type": "stream",
     "text": [
      "Введите команду: add\n",
      "Введите номер документа: №1234321\n",
      "Введите тип документа: диплом\n",
      "Введите имя владельца: Иванов Иван\n",
      "Ввести номер полки : 123\n",
      "Обратились к полке № 123\n",
      "{'1': ['2207 876234', '11-2', '5455 028765'], '2': ['10006', '5400 028765', '5455 002299'], '3': [], '123': ['123321']}\n",
      "Перечень документов c документом № 1234321 на полке № 123\n",
      "{'1': ['2207 876234', '11-2', '5455 028765'], '2': ['10006', '5400 028765', '5455 002299'], '3': [], '123': ['123321', '1234321']}\n",
      "Новый перечень документов\n",
      "[{'type': 'passport', 'number': '2207 876234', 'name': 'Василий Гупкин'}, {'type': 'invoice', 'number': '11-2', 'name': 'Геннадий Покемонов'}, {'type': 'insurance', 'number': '10006', 'name': 'Аристарх Павлов'}, {'type': 'диплом', 'number': '123321', 'name': 'Михайлов Алексей'}, {'type': 'диплом', 'number': '1234321', 'name': 'Иванов Иван'}]\n"
     ]
    }
   ],
   "source": [
    "aaa=input('Введите команду: ')\n",
    "if(aaa!='p' and aaa!='s' and aaa!='l' and aaa!='s' and aaa!=\"as\" \n",
    "   and aaa!='d' and aaa!='m' and aaa!='add'): \n",
    "    print(\"Введена несуществующая команда:\", aaa)\n",
    "else:\n",
    "    if aaa=='p': fun_p()\n",
    "    elif aaa=='s': fun_s()\n",
    "    elif aaa=='l': fun_l()\n",
    "    elif aaa=='as': fun_as()\n",
    "    elif aaa=='d': fun_d()    \n",
    "    elif aaa=='m': fun_m() \n",
    "    elif aaa=='add':  fun_add()"
   ]
  },
  {
   "cell_type": "code",
   "execution_count": null,
   "metadata": {},
   "outputs": [],
   "source": []
  }
 ],
 "metadata": {
  "kernelspec": {
   "display_name": "Python 3",
   "language": "python",
   "name": "python3"
  },
  "language_info": {
   "codemirror_mode": {
    "name": "ipython",
    "version": 3
   },
   "file_extension": ".py",
   "mimetype": "text/x-python",
   "name": "python",
   "nbconvert_exporter": "python",
   "pygments_lexer": "ipython3",
   "version": "3.7.3"
  }
 },
 "nbformat": 4,
 "nbformat_minor": 2
}
